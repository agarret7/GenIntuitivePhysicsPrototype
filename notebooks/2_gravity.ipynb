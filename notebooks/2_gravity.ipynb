{
 "cells": [
  {
   "cell_type": "code",
   "execution_count": null,
   "metadata": {},
   "outputs": [],
   "source": [
    "using Gen\n",
    "using PyPlot\n",
    "using Revise\n",
    "include(\"../src/utils.jl\")\n",
    "include(\"../src/model.jl\");"
   ]
  },
  {
   "cell_type": "markdown",
   "metadata": {},
   "source": [
    "# Gravity"
   ]
  },
  {
   "cell_type": "markdown",
   "metadata": {},
   "source": [
    "One of the MCS intuitive physics tasks relates to reasoning about gravity.\n",
    "\n",
    "Under the forces-based model, gravity is naturally expressed as `const_a` that is passed into our model."
   ]
  },
  {
   "cell_type": "markdown",
   "metadata": {},
   "source": [
    "### Dropping the ball"
   ]
  },
  {
   "cell_type": "markdown",
   "metadata": {},
   "source": [
    "Let's set up a scenario. A ball is dropped from rest at a height of 1.1, and gravity set to -0.022."
   ]
  },
  {
   "cell_type": "code",
   "execution_count": null,
   "metadata": {},
   "outputs": [],
   "source": [
    "# model args\n",
    "T = 10\n",
    "dropped_from_height = State((0,1.1),(0,0),(0,0))\n",
    "gravity_accel = (0, -0.022)\n",
    "hypers = Hypers(0.001, 0.01)\n",
    "model_args = (T, dropped_from_height, gravity_accel, hypers);"
   ]
  },
  {
   "cell_type": "markdown",
   "metadata": {},
   "source": [
    "Next, we visualize some traces from the prior:"
   ]
  },
  {
   "cell_type": "code",
   "execution_count": null,
   "metadata": {},
   "outputs": [],
   "source": [
    "# set plotting parameters\n",
    "init_drop_plot(subtitle) = init_occluder_scene(nothing, subtitle;\n",
    "        plot_bounds=(xmin=-0.5,ymin=-0.25,xmax=0.5,ymax=1.25),\n",
    "        occluder_bounds=(xmin=-0.2,ymin=0,xmax=0.2,ymax=1))\n",
    "\n",
    "# plot dropping object\n",
    "num_traces_to_visualize = 10\n",
    "fig, ax = init_drop_plot(\"Gravity Prior ($num_traces_to_visualize samples)\")\n",
    "traces = [first(Gen.generate(dynamics_model, model_args)) for _ in 1:num_traces_to_visualize]\n",
    "(tr -> draw_trace!(ax, tr)).(traces);"
   ]
  },
  {
   "cell_type": "markdown",
   "metadata": {},
   "source": [
    "### Shoot for the stars"
   ]
  },
  {
   "cell_type": "markdown",
   "metadata": {},
   "source": [
    "In this case, with the same gravity let's throw an object up and to the right at a velocity of (0.6, 1)."
   ]
  },
  {
   "cell_type": "code",
   "execution_count": null,
   "metadata": {},
   "outputs": [],
   "source": [
    "# model args\n",
    "T = 20\n",
    "toss_to_right = State((0,0), (0.1, 0.2), (0,0))\n",
    "gravity_accel = (0, -0.022)\n",
    "hypers = Hypers(0.0075, 0.01)  # σ_accel, σ_obs\n",
    "model_args = (T, toss_to_right, gravity_accel, hypers);"
   ]
  },
  {
   "cell_type": "code",
   "execution_count": null,
   "metadata": {},
   "outputs": [],
   "source": [
    "# set plotting parameters\n",
    "init_toss_plot(obs, subtitle) = init_occluder_scene(obs, subtitle;\n",
    "        plot_bounds=(xmin=0,ymin=0,xmax=2.0,ymax=2.0),\n",
    "        occluder_bounds=(xmin=0,ymin=0,xmax=0.2,ymax=1))\n",
    "\n",
    "# plot tossed object\n",
    "num_traces_to_visualize = 10\n",
    "fig, ax = init_toss_plot(nothing, \"Gravity Prior ($num_traces_to_visualize samples)\")\n",
    "prior_traces = [first(Gen.generate(dynamics_model, model_args)) for _ in 1:num_traces_to_visualize]\n",
    "(tr -> draw_trace!(ax, tr)).(prior_traces);"
   ]
  },
  {
   "cell_type": "markdown",
   "metadata": {},
   "source": [
    "and finally, we'll noisily observe the end state of the ball, and visualize some samples from an importance weighted approximate posterior over trajectories."
   ]
  },
  {
   "cell_type": "code",
   "execution_count": null,
   "metadata": {},
   "outputs": [],
   "source": [
    "# observed end point\n",
    "obs_x = 1.2\n",
    "obs_y = 0.3\n",
    "constraints = Gen.choicemap()\n",
    "constraints[:obs => :x] = obs_x\n",
    "constraints[:obs => :y] = obs_y\n",
    "\n",
    "# importance sampling\n",
    "num_top_traces_to_visualize = 100\n",
    "num_is_samples = 10000\n",
    "fig2, ax = init_toss_plot((obs_x, obs_y), \"Posterior Approximation\")\n",
    "(post_traces, log_norm_weights, lml_est) = importance_sampling(dynamics_model, model_args, constraints, num_is_samples)\n",
    "probs = exp.(log_norm_weights)\n",
    "lines, = (tr -> draw_trace!(ax, tr; color=\"maroon\")).(prior_traces)\n",
    "lines[end].set_label(\"Prior samples\")\n",
    "lines, = (tr -> draw_trace!(ax, tr; color=\"black\")).(post_traces[[categorical(probs) for _ in 1:100]])\n",
    "lines[end].set_label(\"Samples from IS weighted posterior ($num_is_samples samples)\")\n",
    "ax.legend()\n",
    "ax.scatter(obs_x, obs_y, s=300, marker=\"*\", c=\"red\", label=\"Observed Endpoint\");"
   ]
  }
 ],
 "metadata": {
  "kernelspec": {
   "display_name": "Julia 1.6.3",
   "language": "julia",
   "name": "julia-1.6"
  },
  "language_info": {
   "file_extension": ".jl",
   "mimetype": "application/julia",
   "name": "julia",
   "version": "1.6.3"
  }
 },
 "nbformat": 4,
 "nbformat_minor": 2
}
