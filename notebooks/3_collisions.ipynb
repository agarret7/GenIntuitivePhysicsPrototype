{
 "cells": [
  {
   "cell_type": "code",
   "execution_count": 1,
   "metadata": {},
   "outputs": [],
   "source": [
    "using Gen\n",
    "using PyPlot\n",
    "using Revise\n",
    "include(\"../src/utils.jl\")\n",
    "include(\"../src/model.jl\");"
   ]
  },
  {
   "cell_type": "markdown",
   "metadata": {},
   "source": [
    "# Collisions\n",
    "\n",
    "Being able to model collisions is a crucial element of commonsense physical understanding.\n",
    "\n",
    "### Random Normals\n",
    "\n",
    "We can build a model of random normals, that approximate the surfaces of obstacles in the environment.\n",
    "\n",
    "These normals reflect the component of velocity anti-parallel to them, with a certain `restitution` denoting the elasticity of the collision.\n",
    "\n",
    "In our simple case, we don't try to model the presence of normals using the identity of other objects or their shapes.\n",
    "\n",
    "Instead, in a prior we consider each surface to be a either a vertical wall, or uniformly distributed, very massive line segment that our test object may collide with."
   ]
  },
  {
   "cell_type": "code",
   "execution_count": 2,
   "metadata": {},
   "outputs": [],
   "source": [
    "struct CollisionHypers\n",
    "    accel_std :: Real\n",
    "    obs_std :: Real\n",
    "    prob_collision :: Real\n",
    "    restitution :: Real\n",
    "    prob_vertical_wall :: Real\n",
    "end\n",
    "\n",
    "\"\"\"\n",
    "Samples a random acceleration with possible collisions.\n",
    "With probability `prob_collision`, sample a normal vector and reflect the component of velocity perpendicular to it, with magnitude proportional to `restitution`.\n",
    "The normal vector is horizontal with probability `prob_vertical_wall`, and is otherwise uniformly randomly sampled.\n",
    "With probability `1 - prob_collision`, sample a gaussian centered at zero with `accel_std`.\n",
    "\"\"\"\n",
    "@gen function collision_dynamics_randomness(prev_state::State, accel_std::Real, prob_collision::Real, restitution::Real, prob_vertical_wall::Real)\n",
    "    if (has_collision ~ bernoulli(prob_collision))\n",
    "        # collision dynamics\n",
    "        vel = prev_state.velocity\n",
    "\n",
    "        if (has_vertical_wall ~ bernoulli(prob_vertical_wall))\n",
    "            normal_angle = 0.\n",
    "        else\n",
    "            normal_angle ~ uniform(0, 2π)\n",
    "        end\n",
    "        ndir = (cos(normal_angle), sin(normal_angle))\n",
    "\n",
    "        # reflect the velocity\n",
    "        reflected_a = -ndir * dot(vel, ndir) * (1 + restitution)\n",
    "        rand_ax ~ normal(reflected_a[1], accel_std)\n",
    "        rand_ay ~ normal(reflected_a[2], accel_std)\n",
    "    else\n",
    "        # inertial dynamics\n",
    "        rand_ax ~ normal(0, accel_std)\n",
    "        rand_ay ~ normal(0, accel_std)\n",
    "    end\n",
    "    return (rand_ax, rand_ay)\n",
    "end\n",
    "\n",
    "\"\"\"\n",
    "Models the trajectory of a particle across `T` time steps, starting at `init_state`, possibly with collisions.\n",
    "The particle is subject to `const_a`, plus a tiny gaussian distributed acceleration centered at zero with `accel_std`, and a possible collision.\n",
    "The end position is then observed.\n",
    "\"\"\"\n",
    "@gen function collision_dynamics_model(T::Int, init_state::State, const_a::Vec2, hypers::CollisionHypers)\n",
    "    # initialization\n",
    "    states = Vector{State}(undef, T+1)\n",
    "    states[1] = init_state\n",
    "\n",
    "    # run dynamics\n",
    "    for t in 1:T\n",
    "        # model randomness\n",
    "        rand_a = {t} ~ collision_dynamics_randomness(states[t], hypers.accel_std,\n",
    "                                                                hypers.prob_collision,\n",
    "                                                                hypers.restitution,\n",
    "                                                                hypers.prob_vertical_wall)\n",
    "\n",
    "        # run simulation\n",
    "        states[t+1] = dynamics_sim(states[t], rand_a; const_a=const_a)\n",
    "    end\n",
    "\n",
    "    # object emerges\n",
    "    final_pos = states[end].position\n",
    "    {:obs} ~ obs_randomness(final_pos, hypers.obs_std)\n",
    "\n",
    "    return states\n",
    "end;\n"
   ]
  },
  {
   "cell_type": "markdown",
   "metadata": {},
   "source": [
    "### Hitting a wall"
   ]
  },
  {
   "cell_type": "markdown",
   "metadata": {},
   "source": [
    "Let's simulatie our tossing situation from the gravity notebook, this time with the possiblity of collisions."
   ]
  },
  {
   "cell_type": "code",
   "execution_count": null,
   "metadata": {},
   "outputs": [],
   "source": [
    "# model args\n",
    "T = 18\n",
    "toss_to_right = State((0,0), (0.1, 0.2), (0,0))\n",
    "gravity_accel = (0, -0.022)\n",
    "hypers = CollisionHypers(0.0025, 0.02, 0.05, 0.15, 0.9)  # σ_accel, σ_obs, prob_collision, restitution, prob_vertical_wall\n",
    "model_args = (T, toss_to_right, gravity_accel, hypers)\n",
    "\n",
    "# set plotting parameters\n",
    "init_toss_plot(obs, subtitle) = init_occluder_scene(obs, subtitle;\n",
    "        plot_bounds=(xmin=0,ymin=0,xmax=2.0,ymax=2.0),\n",
    "        occluder_bounds=(xmin=0,ymin=0,xmax=0.2,ymax=1))\n",
    "\n",
    "# plot tossed object\n",
    "num_traces_to_visualize = 10\n",
    "fig, ax = init_toss_plot(nothing, \"Gravity Prior ($num_traces_to_visualize samples)\")\n",
    "prior_traces = [first(Gen.generate(collision_dynamics_model, model_args)) for _ in 1:num_traces_to_visualize]\n",
    "(tr -> draw_trace!(ax, tr)).(prior_traces);"
   ]
  },
  {
   "cell_type": "markdown",
   "metadata": {},
   "source": [
    "As we can see, sometimes the object bounces off of an unseen surface.\n",
    "\n",
    "If we observe the object to hit the ground at a relatively close point, even with a uniform prior over the presence of normal forces, we can infer a the object hits a consistent obstacle at a consistent time, that may represent a wall or heavy obstacle."
   ]
  },
  {
   "cell_type": "code",
   "execution_count": null,
   "metadata": {},
   "outputs": [],
   "source": [
    "# observed end point\n",
    "obs_x = 1.2\n",
    "obs_y = 0.025\n",
    "constraints = Gen.choicemap()\n",
    "constraints[:obs => :x] = obs_x\n",
    "constraints[:obs => :y] = obs_y\n",
    "\n",
    "# importance sampling\n",
    "num_traces_to_visualize = 25\n",
    "num_is_samples = 10000\n",
    "fig2, ax = init_toss_plot((obs_x, obs_y), \"Posterior Approximation\")\n",
    "(post_traces, log_norm_weights, lml_est) = importance_sampling(collision_dynamics_model, model_args, constraints, num_is_samples)\n",
    "probs = exp.(log_norm_weights)\n",
    "lines, = (tr -> draw_trace!(ax, tr; color=\"maroon\")).(prior_traces)\n",
    "lines[end].set_label(\"Prior samples\")\n",
    "lines, = (tr -> draw_trace!(ax, tr; color=\"black\")).(post_traces[[categorical(probs) for _ in 1:num_traces_to_visualize]])\n",
    "lines[end].set_label(\"Samples from IS weighted posterior ($num_is_samples samples)\")\n",
    "ax.legend()\n",
    "ax.scatter(obs_x, obs_y, s=300, marker=\"*\", c=\"red\", label=\"Observed Endpoint\");"
   ]
  }
 ],
 "metadata": {
  "kernelspec": {
   "display_name": "Julia 1.6.3",
   "language": "julia",
   "name": "julia-1.6"
  },
  "language_info": {
   "file_extension": ".jl",
   "mimetype": "application/julia",
   "name": "julia",
   "version": "1.6.3"
  }
 },
 "nbformat": 4,
 "nbformat_minor": 2
}
